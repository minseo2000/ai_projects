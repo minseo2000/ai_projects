{
 "cells": [
  {
   "cell_type": "code",
   "execution_count": 2,
   "id": "a0522b11-56c4-4121-aae2-27a86b3786cc",
   "metadata": {},
   "outputs": [],
   "source": [
    "# 현재 파일은 손글씨 분류 문제를 위한 파일입니다.\n",
    "\n",
    "# 모듈 불러오기\n",
    "import torch\n",
    "import torch.nn as nn\n",
    "import torch.nn.functional as F\n",
    "import torch.optim as optim\n",
    "from torchvision import datasets, transforms\n",
    "\n",
    "from matplotlib import pyplot as plt\n",
    "%matplotlib inline"
   ]
  },
  {
   "cell_type": "code",
   "execution_count": 3,
   "id": "ee49206e-5729-4d01-9fa9-5dc3ad1544b7",
   "metadata": {},
   "outputs": [
    {
     "name": "stdout",
     "output_type": "stream",
     "text": [
      "current device is : cpu\n"
     ]
    }
   ],
   "source": [
    "# GPU 사용 여부\n",
    "is_cuda = torch.cuda.is_available()\n",
    "device = torch.device('cuda' if is_cuda else 'cpu')\n",
    "\n",
    "print('current device is :', device)"
   ]
  },
  {
   "cell_type": "code",
   "execution_count": 10,
   "id": "8bacb856-7e9d-4e14-a691-3f6e55467f27",
   "metadata": {},
   "outputs": [],
   "source": [
    "# 하이퍼 파라미터 지정하기\n",
    "batch_size = 50\n",
    "epoch_num = 15\n",
    "learning_rate = 0.0001\n"
   ]
  },
  {
   "cell_type": "code",
   "execution_count": 6,
   "id": "16f1f577-995f-472b-a4f1-74acd45a6cb7",
   "metadata": {
    "scrolled": true
   },
   "outputs": [
    {
     "name": "stderr",
     "output_type": "stream",
     "text": [
      "9.6%"
     ]
    },
    {
     "name": "stdout",
     "output_type": "stream",
     "text": [
      "Downloading http://yann.lecun.com/exdb/mnist/train-images-idx3-ubyte.gz\n",
      "Downloading http://yann.lecun.com/exdb/mnist/train-images-idx3-ubyte.gz to ../../dataset/hands_writing_data/MNIST/raw/train-images-idx3-ubyte.gz\n"
     ]
    },
    {
     "name": "stderr",
     "output_type": "stream",
     "text": [
      "100.0%\n"
     ]
    },
    {
     "name": "stdout",
     "output_type": "stream",
     "text": [
      "Extracting ../../dataset/hands_writing_data/MNIST/raw/train-images-idx3-ubyte.gz to ../../dataset/hands_writing_data/MNIST/raw\n",
      "\n",
      "Downloading http://yann.lecun.com/exdb/mnist/train-labels-idx1-ubyte.gz\n",
      "Downloading http://yann.lecun.com/exdb/mnist/train-labels-idx1-ubyte.gz to ../../dataset/hands_writing_data/MNIST/raw/train-labels-idx1-ubyte.gz\n"
     ]
    },
    {
     "name": "stderr",
     "output_type": "stream",
     "text": [
      "100.0%\n",
      "57.6%"
     ]
    },
    {
     "name": "stdout",
     "output_type": "stream",
     "text": [
      "Extracting ../../dataset/hands_writing_data/MNIST/raw/train-labels-idx1-ubyte.gz to ../../dataset/hands_writing_data/MNIST/raw\n",
      "\n",
      "Downloading http://yann.lecun.com/exdb/mnist/t10k-images-idx3-ubyte.gz\n",
      "Downloading http://yann.lecun.com/exdb/mnist/t10k-images-idx3-ubyte.gz to ../../dataset/hands_writing_data/MNIST/raw/t10k-images-idx3-ubyte.gz\n"
     ]
    },
    {
     "name": "stderr",
     "output_type": "stream",
     "text": [
      "100.0%\n",
      "100.0%\n"
     ]
    },
    {
     "name": "stdout",
     "output_type": "stream",
     "text": [
      "Extracting ../../dataset/hands_writing_data/MNIST/raw/t10k-images-idx3-ubyte.gz to ../../dataset/hands_writing_data/MNIST/raw\n",
      "\n",
      "Downloading http://yann.lecun.com/exdb/mnist/t10k-labels-idx1-ubyte.gz\n",
      "Downloading http://yann.lecun.com/exdb/mnist/t10k-labels-idx1-ubyte.gz to ../../dataset/hands_writing_data/MNIST/raw/t10k-labels-idx1-ubyte.gz\n",
      "Extracting ../../dataset/hands_writing_data/MNIST/raw/t10k-labels-idx1-ubyte.gz to ../../dataset/hands_writing_data/MNIST/raw\n",
      "\n",
      "60000\n",
      "10000\n"
     ]
    }
   ],
   "source": [
    "# Mnist 데이터셋 불러오기\n",
    "train_data = datasets.MNIST(root='../../dataset/hands_writing_data', train=True, download=True, transform=transforms.ToTensor())\n",
    "test_data = datasets.MNIST(root='../../dataset/hands_writing_data', train=False, download=True, transform=transforms.ToTensor())\n",
    "\n",
    "print(len(train_data))\n",
    "print(len(test_data))"
   ]
  },
  {
   "cell_type": "code",
   "execution_count": 49,
   "id": "7ce702c0-6546-4422-a4b5-a2415f272c1b",
   "metadata": {
    "scrolled": true
   },
   "outputs": [
    {
     "data": {
      "image/png": "[encoded data removed]",
      "text/plain": [
       "<Figure size 640x480 with 1 Axes>"
      ]
     },
     "metadata": {},
     "output_type": "display_data"
    }
   ],
   "source": [
    "# 데이터 세트 확인하기\n",
    "image, label = train_data[0]\n",
    "\n",
    "plt.imshow(image.squeeze().numpy(), cmap='gray')\n",
    "plt.title('label : %s' % label)\n",
    "plt.show()"
   ]
  },
  {
   "cell_type": "code",
   "execution_count": 11,
   "id": "4cbcc854-07bd-40f0-979b-fb3b63b4cb4b",
   "metadata": {},
   "outputs": [
    {
     "name": "stdout",
     "output_type": "stream",
     "text": [
      "name            | type                      | size\n"
     ]
    }
   ],
   "source": [
    "# 미니배치 구성하기\n",
    "train_loader = torch.utils.data.DataLoader(dataset = train_data, batch_size=batch_size, shuffle=True)\n",
    "test_loader = torch.utils.data.DataLoader(dataset = test_data, batch_size=batch_size, shuffle=True)\n",
    "\n",
    "first_batch = train_loader.__iter__().__next__()\n",
    "print('{:15s} | {:<25s} | {}'.format('name', 'type', 'size'))"
   ]
  },
  {
   "cell_type": "code",
   "execution_count": 12,
   "id": "14984aaf-d8aa-4073-ab64-e0701ac2ba66",
   "metadata": {},
   "outputs": [],
   "source": [
    "# 간단한 CNN을 사용한다.\n",
    "class CNN(nn.Module):\n",
    "    def __init__(self):\n",
    "        super(CNN, self).__init__()\n",
    "        self.conv1 = nn.Conv2d(1, 32, 3, 1)\n",
    "        self.conv2 = nn.Conv2d(32, 64, 3, 1)\n",
    "        self.dropout1 = nn.Dropout2d(0.25)\n",
    "        self.dropout2 = nn.Dropout2d(0.5)\n",
    "        self.fc1 = nn.Linear(9216, 128)\n",
    "        self.fc2 = nn.Linear(128, 10)\n",
    "    def forward(self, x):\n",
    "        x = self.conv1(x)\n",
    "        x = F.relu(x)\n",
    "        x = self.conv2(x)\n",
    "        x = F.relu(x)\n",
    "        x = F.max_pool2d(x, 2)\n",
    "        x = self.dropout1(x)\n",
    "        x = torch.flatten(x, 1)\n",
    "        x = self.fc1(x)\n",
    "        x = F.relu(x)\n",
    "        x = self.dropout2(x)\n",
    "        x = self.fc2(x)\n",
    "        output = F.log_softmax(x, dim=1)\n",
    "        return output\n"
   ]
  },
  {
   "cell_type": "code",
   "execution_count": 13,
   "id": "cf633dab-41bc-4072-b81d-3c1276c988d3",
   "metadata": {},
   "outputs": [],
   "source": [
    "# Optimizer 및 손실함수 정의\n",
    "model = CNN().to(device)\n",
    "optimizer = optim.Adam(model.parameters(), lr = learning_rate)\n",
    "criterion = nn.CrossEntropyLoss()\n"
   ]
  },
  {
   "cell_type": "code",
   "execution_count": 14,
   "id": "acf1b67b-ffb8-467c-b72c-ff838281a3dd",
   "metadata": {},
   "outputs": [
    {
     "name": "stdout",
     "output_type": "stream",
     "text": [
      "CNN(\n",
      "  (conv1): Conv2d(1, 32, kernel_size=(3, 3), stride=(1, 1))\n",
      "  (conv2): Conv2d(32, 64, kernel_size=(3, 3), stride=(1, 1))\n",
      "  (dropout1): Dropout2d(p=0.25, inplace=False)\n",
      "  (dropout2): Dropout2d(p=0.5, inplace=False)\n",
      "  (fc1): Linear(in_features=9216, out_features=128, bias=True)\n",
      "  (fc2): Linear(in_features=128, out_features=10, bias=True)\n",
      ")\n"
     ]
    }
   ],
   "source": [
    "print(model)"
   ]
  },
  {
   "cell_type": "code",
   "execution_count": 15,
   "id": "a2a9c2f9-6fd7-4aa6-8eb5-afd65367293b",
   "metadata": {},
   "outputs": [
    {
     "name": "stderr",
     "output_type": "stream",
     "text": [
      "/Users/parkminseo/miniconda3/envs/pytorch/lib/python3.8/site-packages/torch/nn/functional.py:1345: UserWarning: dropout2d: Received a 2-D input to dropout2d, which is deprecated and will result in an error in a future release. To retain the behavior and silence this warning, please use dropout instead. Note that dropout2d exists to provide channel-wise dropout on inputs with 2 spatial dimensions, a channel dimension, and an optional batch dimension (i.e. 3D or 4D inputs).\n",
      "  warnings.warn(warn_msg)\n"
     ]
    },
    {
     "name": "stdout",
     "output_type": "stream",
     "text": [
      "Train Step: 0\tLoss : 2.325\n",
      "Train Step: 1000\tLoss : 0.206\n",
      "Train Step: 2000\tLoss : 0.095\n",
      "Train Step: 3000\tLoss : 0.198\n",
      "Train Step: 4000\tLoss : 0.076\n",
      "Train Step: 5000\tLoss : 0.075\n",
      "Train Step: 6000\tLoss : 0.103\n",
      "Train Step: 7000\tLoss : 0.041\n",
      "Train Step: 8000\tLoss : 0.038\n",
      "Train Step: 9000\tLoss : 0.028\n",
      "Train Step: 10000\tLoss : 0.032\n",
      "Train Step: 11000\tLoss : 0.008\n",
      "Train Step: 12000\tLoss : 0.105\n",
      "Train Step: 13000\tLoss : 0.045\n",
      "Train Step: 14000\tLoss : 0.040\n",
      "Train Step: 15000\tLoss : 0.124\n",
      "Train Step: 16000\tLoss : 0.009\n",
      "Train Step: 17000\tLoss : 0.012\n"
     ]
    }
   ],
   "source": [
    "model.train()\n",
    "i = 0\n",
    "for epoch in range(epoch_num):\n",
    "    for data, target in train_loader:\n",
    "        data = data.to(device)\n",
    "        target = target.to(device)\n",
    "        optimizer.zero_grad()\n",
    "        output = model(data)\n",
    "        loss = criterion(output, target)\n",
    "        loss.backward()\n",
    "        optimizer.step()\n",
    "        if i % 1000 == 0:\n",
    "            print('Train Step: {}\\tLoss : {:.3f}'.format(i, loss.item()))\n",
    "        i+=1"
   ]
  },
  {
   "cell_type": "code",
   "execution_count": 17,
   "id": "f7fd2d7d-42ad-4052-9668-84d3a065d5e6",
   "metadata": {},
   "outputs": [
    {
     "name": "stderr",
     "output_type": "stream",
     "text": [
      "/Users/parkminseo/miniconda3/envs/pytorch/lib/python3.8/site-packages/torch/nn/functional.py:1345: UserWarning: dropout2d: Received a 2-D input to dropout2d, which is deprecated and will result in an error in a future release. To retain the behavior and silence this warning, please use dropout instead. Note that dropout2d exists to provide channel-wise dropout on inputs with 2 spatial dimensions, a channel dimension, and an optional batch dimension (i.e. 3D or 4D inputs).\n",
      "  warnings.warn(warn_msg)\n"
     ]
    },
    {
     "name": "stdout",
     "output_type": "stream",
     "text": [
      "Test set: Accuracy: 98.93%\n"
     ]
    }
   ],
   "source": [
    "# 모델 평가\n",
    "model.eval()\n",
    "correct = 0\n",
    "for data, target in test_loader:\n",
    "    data = data.to(device)\n",
    "    target = target.to(device)\n",
    "    output = model(data)\n",
    "    prediction = output.data.max(1)[1]\n",
    "    correct += prediction.eq(target.data).sum()\n",
    "print('Test set: Accuracy: {:.2f}%'.format(100 * correct / len(test_loader.dataset)))"
   ]
  },
  {
   "cell_type": "code",
   "execution_count": 18,
   "id": "2bd8d284-fd7e-4733-bae5-9c32ca93bc19",
   "metadata": {},
   "outputs": [],
   "source": [
    "# 모델 저장하기\n",
    "\n",
    "MODEL_SAVE_PATH = './writing_model.pt'\n",
    "torch.save(model, MODEL_SAVE_PATH)"
   ]
  },
  {
   "cell_type": "code",
   "execution_count": 56,
   "id": "958cad9d-fe7a-4f95-97fd-61f74c78a6a8",
   "metadata": {
    "scrolled": true
   },
   "outputs": [
    {
     "name": "stdout",
     "output_type": "stream",
     "text": [
      "torch.Size([1, 1, 28, 28])\n"
     ]
    },
    {
     "data": {
      "text/plain": [
       "4"
      ]
     },
     "execution_count": 56,
     "metadata": {},
     "output_type": "execute_result"
    }
   ],
   "source": [
    "model = torch.load(MODEL_SAVE_PATH)\n",
    "\n",
    "model.eval()\n",
    "\n",
    "def get_prediction(image_bytes):\n",
    "    print(image_bytes.shape)\n",
    "    outputs = model.forward(image_bytes)\n",
    "    _, y_hat = outputs.max(1)\n",
    "    prediction = y_hat.item()\n",
    "    return prediction\n",
    "\n",
    "get_prediction(train_data[2][0].unsqueeze(0))"
   ]
  },
  {
   "cell_type": "code",
   "execution_count": 48,
   "id": "d40a4b5e-f8ea-445e-95dd-c83cfd8401dc",
   "metadata": {},
   "outputs": [
    {
     "data": {
      "image/png": "[encoded data removed]",
      "text/plain": [
       "<Figure size 640x480 with 1 Axes>"
      ]
     },
     "metadata": {},
     "output_type": "display_data"
    }
   ],
   "source": [
    "# 데이터 세트 확인하기\n",
    "image, label = train_data[2]\n",
    "\n",
    "plt.imshow(image.squeeze().numpy(), cmap='gray')\n",
    "plt.title('label : %s' % label)\n",
    "plt.show()"
   ]
  },
  {
   "cell_type": "code",
   "execution_count": 54,
   "id": "8e7b7569-883c-4151-ad13-b3e4b4c25933",
   "metadata": {},
   "outputs": [
    {
     "name": "stdout",
     "output_type": "stream",
     "text": [
      "(28, 28)\n"
     ]
    }
   ],
   "source": [
    "print(image.squeeze(0).numpy().shape)"
   ]
  },
  {
   "cell_type": "code",
   "execution_count": 55,
   "id": "215d06c6-11b6-43da-bb63-689d97aec6d6",
   "metadata": {},
   "outputs": [
    {
     "name": "stdout",
     "output_type": "stream",
     "text": [
      "<class 'tuple'>\n"
     ]
    }
   ],
   "source": [
    "print(type(image.squeeze(0).numpy().shape))"
   ]
  },
  {
   "cell_type": "code",
   "execution_count": null,
   "id": "ecb0a287-38e3-460c-a166-7cc285102735",
   "metadata": {},
   "outputs": [],
   "source": []
  }
 ],
 "metadata": {
  "kernelspec": {
   "display_name": "Python 3 (ipykernel)",
   "language": "python",
   "name": "python3"
  },
  "language_info": {
   "codemirror_mode": {
    "name": "ipython",
    "version": 3
   },
   "file_extension": ".py",
   "mimetype": "text/x-python",
   "name": "python",
   "nbconvert_exporter": "python",
   "pygments_lexer": "ipython3",
   "version": "3.8.18"
  }
 },
 "nbformat": 4,
 "nbformat_minor": 5
}
