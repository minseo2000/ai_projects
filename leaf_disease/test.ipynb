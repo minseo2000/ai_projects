{
 "cells": [
  {
   "cell_type": "code",
   "execution_count": 1,
   "id": "973ee73d-3806-4a4c-ad95-046b0ccdf495",
   "metadata": {},
   "outputs": [],
   "source": [
    "# 전이학습 (Transfer Learning)에 대한 개념을 확립하고, 기본 Conv 모델과 학습 방식에서 어떤 차이점과 장점이 있는지?\n",
    "# 배우는 것을 목표로.\n"
   ]
  },
  {
   "cell_type": "code",
   "execution_count": null,
   "id": "38f6313a-313a-49cc-9e82-42bd6c6b46a8",
   "metadata": {},
   "outputs": [],
   "source": []
  }
 ],
 "metadata": {
  "kernelspec": {
   "display_name": "Python 3 (ipykernel)",
   "language": "python",
   "name": "python3"
  },
  "language_info": {
   "codemirror_mode": {
    "name": "ipython",
    "version": 3
   },
   "file_extension": ".py",
   "mimetype": "text/x-python",
   "name": "python",
   "nbconvert_exporter": "python",
   "pygments_lexer": "ipython3",
   "version": "3.8.18"
  }
 },
 "nbformat": 4,
 "nbformat_minor": 5
}
